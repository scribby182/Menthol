{
 "cells": [
  {
   "cell_type": "code",
   "execution_count": 2,
   "metadata": {},
   "outputs": [],
   "source": [
    "%load_ext autoreload\n",
    "%autoreload 2"
   ]
  },
  {
   "cell_type": "code",
   "execution_count": 13,
   "metadata": {
    "collapsed": true
   },
   "outputs": [],
   "source": [
    "import Transactions\n",
    "import matplotlib.pyplot as plt\n",
    "from Budget import Budget"
   ]
  },
  {
   "cell_type": "code",
   "execution_count": 14,
   "metadata": {
    "collapsed": true
   },
   "outputs": [],
   "source": [
    "all_trxs = Transactions.Transactions.from_csv('2017-12-19_transactions.csv')"
   ]
  },
  {
   "cell_type": "code",
   "execution_count": 15,
   "metadata": {
    "collapsed": true
   },
   "outputs": [],
   "source": [
    "b = Budget(-15, ['Hair (Andrew)', 'Hair'], name='Haircuts')"
   ]
  },
  {
   "cell_type": "code",
   "execution_count": 58,
   "metadata": {},
   "outputs": [
    {
     "name": "stdout",
     "output_type": "stream",
     "text": [
      "RangeIndex(start=0, stop=22, step=1)\n"
     ]
    },
    {
     "ename": "TypeError",
     "evalue": "'RangeIndex' object is not an iterator",
     "traceback": [
      "\u001b[1;31m---------------------------------------------------------------------------\u001b[0m",
      "\u001b[1;31mTypeError\u001b[0m                                 Traceback (most recent call last)",
      "\u001b[1;32m<ipython-input-58-90b8852ec84d>\u001b[0m in \u001b[0;36m<module>\u001b[1;34m()\u001b[0m\n\u001b[0;32m      5\u001b[0m \u001b[0mprint\u001b[0m\u001b[1;33m(\u001b[0m\u001b[0mindices\u001b[0m\u001b[1;33m)\u001b[0m\u001b[1;33m\u001b[0m\u001b[0m\n\u001b[0;32m      6\u001b[0m \u001b[1;32mfor\u001b[0m \u001b[0mamount\u001b[0m \u001b[1;32min\u001b[0m \u001b[0mamounts\u001b[0m\u001b[1;33m:\u001b[0m\u001b[1;33m\u001b[0m\u001b[0m\n\u001b[1;32m----> 7\u001b[1;33m     \u001b[0mindex\u001b[0m \u001b[1;33m=\u001b[0m \u001b[0mnext\u001b[0m\u001b[1;33m(\u001b[0m\u001b[0mindices\u001b[0m\u001b[1;33m)\u001b[0m\u001b[1;33m\u001b[0m\u001b[0m\n\u001b[0m\u001b[0;32m      8\u001b[0m     \u001b[0mprint\u001b[0m\u001b[1;33m(\u001b[0m\u001b[0mindex\u001b[0m\u001b[1;33m,\u001b[0m \u001b[0mamount\u001b[0m\u001b[1;33m)\u001b[0m\u001b[1;33m\u001b[0m\u001b[0m\n\u001b[0;32m      9\u001b[0m \u001b[1;33m\u001b[0m\u001b[0m\n",
      "\u001b[1;31mTypeError\u001b[0m: 'RangeIndex' object is not an iterator"
     ],
     "output_type": "error"
    }
   ],
   "source": [
    "trxs = b.tabulate_transactions(all_trxs)\n",
    "# g = trxs.df.loc[:, 'Amount'].itertuples()\n",
    "amounts = trxs.df.loc[:, 'Amount']\n",
    "indices = trxs.df.index\n",
    "print(indices)\n",
    "for amount in amounts:\n",
    "    index = next(indices)\n",
    "    print(index, amount)\n",
    "\n",
    "# x = next(g)\n",
    "\n",
    "# print(x[2])\n",
    "# print(list(trxs.df.itertuples()))"
   ]
  },
  {
   "cell_type": "code",
   "execution_count": 56,
   "metadata": {},
   "outputs": [
    {
     "data": {
      "text/plain": [
       "[(0, -16.0),\n",
       " (1, -16.0),\n",
       " (2, -245.0),\n",
       " (3, -78.0),\n",
       " (4, -16.0),\n",
       " (5, -244.84999999999999),\n",
       " (6, 0.0),\n",
       " (7, -16.0),\n",
       " (8, -174.69999999999999),\n",
       " (9, 0.0),\n",
       " (10, -16.0),\n",
       " (11, -241.40000000000001),\n",
       " (12, -16.0),\n",
       " (13, -16.0),\n",
       " (14, 0.0),\n",
       " (15, -196.08999999999997),\n",
       " (16, -16.0),\n",
       " (17, -16.0),\n",
       " (18, -257.39999999999998),\n",
       " (19, -16.0),\n",
       " (20, -16.0),\n",
       " (21, -179.30000000000001)]"
      ]
     },
     "execution_count": 56,
     "metadata": {},
     "output_type": "execute_result"
    }
   ],
   "source": [
    "list(g.iteritems())"
   ]
  },
  {
   "cell_type": "code",
   "execution_count": null,
   "metadata": {
    "collapsed": true
   },
   "outputs": [],
   "source": []
  },
  {
   "cell_type": "code",
   "execution_count": 19,
   "metadata": {},
   "outputs": [
    {
     "name": "stdout",
     "output_type": "stream",
     "text": [
      "sum_monthly (Transactions)\n",
      "0: 2016-03-31 00:00:00 | -16.0 | 1-month Summation | Haircuts\n",
      "1: 2016-04-30 00:00:00 | -16.0 | 1-month Summation | Haircuts\n",
      "2: 2016-05-31 00:00:00 | -245.0 | 1-month Summation | Haircuts\n",
      "3: 2016-06-30 00:00:00 | -78.0 | 1-month Summation | Haircuts\n",
      "4: 2016-07-31 00:00:00 | -16.0 | 1-month Summation | Haircuts\n",
      "5: 2016-08-31 00:00:00 | -244.85 | 1-month Summation | Haircuts\n",
      "6: 2016-09-30 00:00:00 | 0.0 | 1-month Summation | Haircuts\n",
      "7: 2016-10-31 00:00:00 | -16.0 | 1-month Summation | Haircuts\n",
      "8: 2016-11-30 00:00:00 | -174.7 | 1-month Summation | Haircuts\n",
      "9: 2016-12-31 00:00:00 | 0.0 | 1-month Summation | Haircuts\n",
      "10: 2017-01-31 00:00:00 | -16.0 | 1-month Summation | Haircuts\n",
      "11: 2017-02-28 00:00:00 | -241.4 | 1-month Summation | Haircuts\n",
      "12: 2017-03-31 00:00:00 | -16.0 | 1-month Summation | Haircuts\n",
      "13: 2017-04-30 00:00:00 | -16.0 | 1-month Summation | Haircuts\n",
      "14: 2017-05-31 00:00:00 | 0.0 | 1-month Summation | Haircuts\n",
      "15: 2017-06-30 00:00:00 | -196.08999999999997 | 1-month Summation | Haircuts\n",
      "16: 2017-07-31 00:00:00 | -16.0 | 1-month Summation | Haircuts\n",
      "17: 2017-08-31 00:00:00 | -16.0 | 1-month Summation | Haircuts\n",
      "18: 2017-09-30 00:00:00 | -257.4 | 1-month Summation | Haircuts\n",
      "19: 2017-10-31 00:00:00 | -16.0 | 1-month Summation | Haircuts\n",
      "20: 2017-11-30 00:00:00 | -16.0 | 1-month Summation | Haircuts\n",
      "21: 2017-12-31 00:00:00 | -179.3 | 1-month Summation | Haircuts\n",
      "sum_monthly.df\n",
      "    Amount  Category       Date        Description\n",
      "0   -16.00  Haircuts 2016-03-31  1-month Summation\n",
      "1   -16.00  Haircuts 2016-04-30  1-month Summation\n",
      "2  -245.00  Haircuts 2016-05-31  1-month Summation\n",
      "3   -78.00  Haircuts 2016-06-30  1-month Summation\n",
      "4   -16.00  Haircuts 2016-07-31  1-month Summation\n",
      "5  -244.85  Haircuts 2016-08-31  1-month Summation\n",
      "6     0.00  Haircuts 2016-09-30  1-month Summation\n",
      "7   -16.00  Haircuts 2016-10-31  1-month Summation\n",
      "8  -174.70  Haircuts 2016-11-30  1-month Summation\n",
      "9     0.00  Haircuts 2016-12-31  1-month Summation\n",
      "10  -16.00  Haircuts 2017-01-31  1-month Summation\n",
      "11 -241.40  Haircuts 2017-02-28  1-month Summation\n",
      "12  -16.00  Haircuts 2017-03-31  1-month Summation\n",
      "13  -16.00  Haircuts 2017-04-30  1-month Summation\n",
      "14    0.00  Haircuts 2017-05-31  1-month Summation\n",
      "15 -196.09  Haircuts 2017-06-30  1-month Summation\n",
      "16  -16.00  Haircuts 2017-07-31  1-month Summation\n",
      "17  -16.00  Haircuts 2017-08-31  1-month Summation\n",
      "18 -257.40  Haircuts 2017-09-30  1-month Summation\n",
      "19  -16.00  Haircuts 2017-10-31  1-month Summation\n",
      "20  -16.00  Haircuts 2017-11-30  1-month Summation\n",
      "21 -179.30  Haircuts 2017-12-31  1-month Summation\n"
     ]
    },
    {
     "data": {
      "image/png": "[encoded data removed]",
      "text/plain": [
       "<matplotlib.figure.Figure at 0x189c3cf1c18>"
      ]
     },
     "metadata": {},
     "output_type": "display_data"
    }
   ],
   "source": [
    "fig, ax = b.plot_budget(all_trxs, moving_average=12)\n",
    "plt.legend()\n",
    "plt.show()\n"
   ]
  },
  {
   "cell_type": "code",
   "execution_count": 16,
   "metadata": {},
   "outputs": [
    {
     "data": {
      "text/plain": [
       "'1,2'"
      ]
     },
     "execution_count": 16,
     "metadata": {},
     "output_type": "execute_result"
    }
   ],
   "source": [
    "\",\".join(['1', '2'])"
   ]
  },
  {
   "cell_type": "code",
   "execution_count": 4,
   "metadata": {
    "collapsed": true
   },
   "outputs": [],
   "source": [
    "sum_monthly = all_trxs.slice_by_category(['Hair (Andrew)']).by_month()\n",
    "avg_6month = all_trxs.slice_by_category(['Hair (Andrew)']).moving_average(n=6)\n"
   ]
  },
  {
   "cell_type": "code",
   "execution_count": 7,
   "metadata": {},
   "outputs": [
    {
     "data": {
      "image/png": "[encoded data removed]",
      "text/plain": [
       "<matplotlib.figure.Figure at 0x1f0b1fb3cf8>"
      ]
     },
     "metadata": {},
     "output_type": "display_data"
    }
   ],
   "source": [
    "n=6\n",
    "category='Hair (Andrew)'\n",
    "budget=15\n",
    "# fig, ax = plt.subplots()\n",
    "# plt.plot(test.df['Date'].as_matrix(), -1*test.df['Amount'].as_matrix(), '.-')\n",
    "# plt.show()\n",
    "fig, ax = plt.subplots()\n",
    "ax.bar(sum_monthly.df['Date'].as_matrix(), -1*sum_monthly.df['Amount'].as_matrix(), width=10, label=f'{category}', color='red')\n",
    "# color = ax.plot(sum_monthly.df['Date'].as_matrix(), -1*sum_monthly.df['Amount'].as_matrix(), 'o', label=f'{category}')[0].get_color()\n",
    "ax.plot(avg_6month.df['Date'].as_matrix(), -1*avg_6month.df['Amount'].as_matrix(), color=color, label=f'{category} {n}-month average', ls='--')\n",
    "ax.plot([sum_monthly.df['Date'].as_matrix().min(), sum_monthly.df['Date'].as_matrix().max()], [budget, budget], color=color, ls=':', label=f'{category} Budget (${budget})')\n",
    "# ax.xaxis_date()\n",
    "fig.autofmt_xdate(bottom=0.2, rotation=30, ha='right')\n",
    "plt.legend()\n",
    "plt.show()"
   ]
  },
  {
   "cell_type": "code",
   "execution_count": 20,
   "metadata": {},
   "outputs": [
    {
     "ename": "NameError",
     "evalue": "name 'test' is not defined",
     "traceback": [
      "\u001b[1;31m---------------------------------------------------------------------------\u001b[0m",
      "\u001b[1;31mNameError\u001b[0m                                 Traceback (most recent call last)",
      "\u001b[1;32m<ipython-input-20-17807dc5f907>\u001b[0m in \u001b[0;36m<module>\u001b[1;34m()\u001b[0m\n\u001b[0;32m      1\u001b[0m \u001b[1;31m# fig, ax = plt.subplots()\u001b[0m\u001b[1;33m\u001b[0m\u001b[1;33m\u001b[0m\u001b[0m\n\u001b[1;32m----> 2\u001b[1;33m \u001b[0mtest\u001b[0m\u001b[1;33m.\u001b[0m\u001b[0mdf\u001b[0m\u001b[1;33m.\u001b[0m\u001b[0mplot\u001b[0m\u001b[1;33m(\u001b[0m\u001b[0mx\u001b[0m\u001b[1;33m=\u001b[0m\u001b[1;34m'Date'\u001b[0m\u001b[1;33m,\u001b[0m \u001b[0my\u001b[0m\u001b[1;33m=\u001b[0m\u001b[1;34m'Amount'\u001b[0m\u001b[1;33m,\u001b[0m \u001b[0mkind\u001b[0m\u001b[1;33m=\u001b[0m\u001b[1;34m'bar'\u001b[0m\u001b[1;33m)\u001b[0m\u001b[1;33m\u001b[0m\u001b[0m\n\u001b[0m\u001b[0;32m      3\u001b[0m \u001b[0mtest2\u001b[0m\u001b[1;33m.\u001b[0m\u001b[0mdf\u001b[0m\u001b[1;33m.\u001b[0m\u001b[0mplot\u001b[0m\u001b[1;33m(\u001b[0m\u001b[0mx\u001b[0m\u001b[1;33m=\u001b[0m\u001b[1;34m'Date'\u001b[0m\u001b[1;33m,\u001b[0m \u001b[0my\u001b[0m\u001b[1;33m=\u001b[0m\u001b[1;34m'Amount'\u001b[0m\u001b[1;33m,\u001b[0m \u001b[0mkind\u001b[0m\u001b[1;33m=\u001b[0m\u001b[1;34m'line'\u001b[0m\u001b[1;33m)\u001b[0m\u001b[1;33m\u001b[0m\u001b[0m\n\u001b[0;32m      4\u001b[0m \u001b[1;33m\u001b[0m\u001b[0m\n\u001b[0;32m      5\u001b[0m \u001b[1;31m# print([test.df.Date.min(), test.df.Date.max()])\u001b[0m\u001b[1;33m\u001b[0m\u001b[1;33m\u001b[0m\u001b[0m\n",
      "\u001b[1;31mNameError\u001b[0m: name 'test' is not defined"
     ],
     "output_type": "error"
    }
   ],
   "source": [
    "# fig, ax = plt.subplots()\n",
    "test.df.plot(x='Date', y='Amount', kind='bar')\n",
    "test2.df.plot(x='Date', y='Amount', kind='line')\n",
    "\n",
    "# print([test.df.Date.min(), test.df.Date.max()])\n",
    "# ax.plot([test.df.Date.min(), test.df.Date.max()], [-15, -15], '-o')\n",
    "plt.show()"
   ]
  },
  {
   "cell_type": "code",
   "execution_count": 30,
   "metadata": {},
   "outputs": [],
   "source": [
    "import pandas as pd\n",
    "import datetime\n",
    "ds = pd.Series()"
   ]
  },
  {
   "cell_type": "code",
   "execution_count": 24,
   "metadata": {},
   "outputs": [],
   "source": [
    "ds.test =5\n"
   ]
  },
  {
   "cell_type": "code",
   "execution_count": 25,
   "metadata": {},
   "outputs": [
    {
     "data": {
      "text/plain": [
       "Series([], dtype: float64)"
      ]
     },
     "execution_count": 25,
     "metadata": {},
     "output_type": "execute_result"
    }
   ],
   "source": [
    "ds."
   ]
  },
  {
   "cell_type": "code",
   "execution_count": 31,
   "metadata": {},
   "outputs": [],
   "source": [
    "amounts = [10, -5, 20]\n",
    "dates = [datetime.datetime(2016, 1, 1), datetime.datetime(2017, 1, 1), datetime.datetime(2018, 1, 1)]\n"
   ]
  },
  {
   "cell_type": "code",
   "execution_count": 32,
   "metadata": {
    "collapsed": true
   },
   "outputs": [],
   "source": [
    "ds = pd.Series(data=amounts, index=dates)"
   ]
  },
  {
   "cell_type": "code",
   "execution_count": 33,
   "metadata": {},
   "outputs": [
    {
     "data": {
      "text/plain": [
       "2016-01-01    10\n",
       "2017-01-01    -5\n",
       "2018-01-01    20\n",
       "dtype: int64"
      ]
     },
     "execution_count": 33,
     "metadata": {},
     "output_type": "execute_result"
    }
   ],
   "source": [
    "ds"
   ]
  },
  {
   "cell_type": "code",
   "execution_count": null,
   "metadata": {
    "collapsed": true
   },
   "outputs": [],
   "source": []
  }
 ],
 "metadata": {
  "kernelspec": {
   "display_name": "Python 3",
   "language": "python",
   "name": "python3"
  },
  "language_info": {
   "codemirror_mode": {
    "name": "ipython",
    "version": 3
   },
   "file_extension": ".py",
   "mimetype": "text/x-python",
   "name": "python",
   "nbconvert_exporter": "python",
   "pygments_lexer": "ipython3",
   "version": "3.6.3"
  }
 },
 "nbformat": 4,
 "nbformat_minor": 2
}
