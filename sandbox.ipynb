{
 "cells": [
  {
   "cell_type": "code",
   "execution_count": 1,
   "metadata": {
    "collapsed": true
   },
   "outputs": [],
   "source": [
    "%load_ext autoreload\n",
    "%autoreload 2"
   ]
  },
  {
   "cell_type": "code",
   "execution_count": 2,
   "metadata": {
    "collapsed": true
   },
   "outputs": [],
   "source": [
    "import Transactions\n",
    "import matplotlib.pyplot as plt\n",
    "from Budget import Budget\n",
    "from Budgets import Budgets\n",
    "from pprint import pprint\n",
    "import datetime\n",
    "from collections import OrderedDict"
   ]
  },
  {
   "cell_type": "markdown",
   "metadata": {},
   "source": [
    "# Settings"
   ]
  },
  {
   "cell_type": "code",
   "execution_count": 3,
   "metadata": {
    "collapsed": true
   },
   "outputs": [],
   "source": [
    "date = \"2018-01-27\"\n",
    "moving_average = [12]\n",
    "save_dir = f\"./{date}/\""
   ]
  },
  {
   "cell_type": "markdown",
   "metadata": {},
   "source": [
    "# Income/Expenses"
   ]
  },
  {
   "cell_type": "code",
   "execution_count": 4,
   "metadata": {
    "collapsed": true
   },
   "outputs": [],
   "source": [
    "csv_file = date + \"_All_Transactions.csv\"\n",
    "all_trxs = Transactions.Transactions.from_csv(csv_file)"
   ]
  },
  {
   "cell_type": "markdown",
   "metadata": {},
   "source": [
    "## Income Budgets"
   ]
  },
  {
   "cell_type": "code",
   "execution_count": 5,
   "metadata": {
    "scrolled": false
   },
   "outputs": [
    {
     "name": "stdout",
     "output_type": "stream",
     "text": [
      "Subcategorized Income\n",
      "Paycheck                       | $ 7300.00 | ['Paycheck']\n",
      "Parents and Gifts              | $  500.00 | ['Parents and Gifts']\n",
      "Other                          | $  100.00 | ['Interest Income', 'Unknown Income', 'Credit Card Rewards']\n",
      "------------------------------\n",
      "Total                          | $ 7900.00\n"
     ]
    }
   ],
   "source": [
    "income_subcategory_bs_dict = OrderedDict()\n",
    "\n",
    "# Income\n",
    "name = \"Regular Income\"\n",
    "income_subcategory_bs_dict[name] = Budgets(name=name)\n",
    "income_subcategory_bs_dict[name].add_budget(Budget(7300, [\"Paycheck\"]))\n",
    "income_subcategory_bs_dict[name].add_budget(Budget(500, [\"Parents and Gifts\"]))\n",
    "income_subcategory_bs_dict[name].add_budget(Budget(100, [\"Interest Income\", \"Unknown Income\", \"Credit Card Rewards\"], name=\"Other\"))\n",
    "\n",
    "income_subcategory_bs = Budgets(name=\"Subcategorized Income\")\n",
    "for name, bs in income_subcategory_bs_dict.items():\n",
    "    income_subcategory_bs.extend(bs)\n",
    "income_subcategory_bs.display()\n"
   ]
  },
  {
   "cell_type": "markdown",
   "metadata": {},
   "source": [
    "### Group by categories"
   ]
  },
  {
   "cell_type": "code",
   "execution_count": 6,
   "metadata": {},
   "outputs": [
    {
     "name": "stdout",
     "output_type": "stream",
     "text": [
      "Categorized Income\n",
      "Regular Income                 | $ 7900.00\n",
      "------------------------------\n",
      "Total                          | $ 7900.00\n"
     ]
    }
   ],
   "source": [
    "income_category_bs = Budgets(name=\"Categorized Income\")\n",
    "\n",
    "for name in income_subcategory_bs_dict:\n",
    "    income_category_bs.add_budgets(income_subcategory_bs_dict[name])\n",
    "income_category_bs.display(categories=False)"
   ]
  },
  {
   "cell_type": "markdown",
   "metadata": {},
   "source": [
    "### Group all expenses into one Budgets"
   ]
  },
  {
   "cell_type": "code",
   "execution_count": 7,
   "metadata": {},
   "outputs": [
    {
     "name": "stdout",
     "output_type": "stream",
     "text": [
      "Total Income\n",
      "Categorized Income             | $ 7900.00\n",
      "------------------------------\n",
      "Total                          | $ 7900.00\n"
     ]
    }
   ],
   "source": [
    "income_bs = Budgets(name=\"Total Income\")\n",
    "income_bs.add_budgets(income_category_bs)\n",
    "income_bs.display(categories=False)"
   ]
  },
  {
   "cell_type": "markdown",
   "metadata": {},
   "source": [
    "## Expense Budgets"
   ]
  },
  {
   "cell_type": "code",
   "execution_count": 8,
   "metadata": {},
   "outputs": [
    {
     "name": "stdout",
     "output_type": "stream",
     "text": [
      "Subcategorized Expenses\n",
      "Auto Insurance                 | $  -80.00 | ['Auto Insurance']\n",
      "Gas & Fuel                     | $  -70.00 | ['Gas & Fuel']\n",
      "Service & Parts                | $ -100.00 | ['Service & Parts']\n",
      "Vehicle Property Tax           | $  -25.00 | ['Vehicle Property Tax']\n",
      "Electricity                    | $ -115.00 | ['Electricity']\n",
      "Internet                       | $  -56.00 | ['Internet']\n",
      "Mobile Phone                   | $ -145.00 | ['Mobile Phone']\n",
      "Trash, Water                   | $  -55.00 | ['Trash/Water']\n",
      "Natural Gas                    | $  -25.00 | ['Natural Gas']\n",
      "Software Servcices             | $  -35.00 | ['Software Services']\n",
      "HOA Fees                       | $ -250.00 | ['HOA Fees']\n",
      "Home Services, Home Insurance  | $ -120.00 | ['Home Services', 'Home Insurance']\n",
      "Mortgage & Rent                | $-1365.00 | ['Mortgage & Rent']\n",
      "Home Impr_Furn_Supplies        | $ -150.00 | ['Furnishings', 'Home Improvement', 'Home Supplies']\n",
      "Hair-Heather                   | $  -66.00 | ['Hair']\n",
      "Hair-Andrew                    | $  -16.00 | ['Hair (Andrew)']\n",
      "All Medical Expenses           | $  -25.00 | ['All Medical Expenses']\n",
      "Groceries                      | $ -725.00 | ['Groceries']\n",
      "Fun Activities                 | $  -75.00 | ['Amusement', 'Movies & DVDs']\n",
      "Food Out                       | $ -175.00 | ['Restaurants', 'Fast Food']\n",
      "Coffee Shops                   | $  -20.00 | ['Coffee Shops']\n",
      "Food at Work                   | $  -50.00 | ['Food at Work']\n",
      "Gift                           | $ -100.00 | ['Gift']\n",
      "Sports                         | $ -225.00 | ['Sports']\n",
      "Books, Games, Software         | $  -30.00 | ['Books', 'Software', 'Hobbies']\n",
      "Clothing-Heather               | $ -150.00 | ['Clothing (Heather)']\n",
      "Clothing-Andrew                | $ -100.00 | ['Clothing (Andrew)']\n",
      "Electronics, Computers, Tech   | $ -150.00 | ['Electronics Hardware']\n",
      "Vacations                      | $ -800.00 | ['Beach 2017', 'Europe Trip 2016', 'Vancouver 2017', 'Hawaii 2018', 'Vacation']\n",
      "Trips Home                     | $ -325.00 | ['Trips Home']\n",
      "Educational Expenses           | $  -15.00 | ['Tuition']\n",
      "Work, Home Office              | $  -20.00 | ['Work Expenses', 'Office Supplies']\n",
      "Fees and Charges               | $  -20.00 | ['ATM Fee', 'Bank Fee', 'Fees & Charges', 'Finance Charge', 'Late Fee']\n",
      "Taxes                          | $  -50.00 | ['Federal Tax', 'Taxes', 'State Tax']\n",
      "Passport, License, etc         | $  -15.00 | ['Passport, License ..']\n",
      "Unknown - Cash, etc            | $  -15.00 | ['Cash & ATM']\n",
      "Roth IRA                       | $ -917.00 | ['Investment Transfer']\n",
      "------------------------------\n",
      "Total                          | $-6675.00\n"
     ]
    }
   ],
   "source": [
    "expenses_subcategory_bs_dict = OrderedDict()\n",
    "\n",
    "# Car\n",
    "name = \"Car\"\n",
    "expenses_subcategory_bs_dict[name] = Budgets(name=name)\n",
    "expenses_subcategory_bs_dict[name].add_budget(Budget(-80, [\"Auto Insurance\"]))\n",
    "expenses_subcategory_bs_dict[name].add_budget(Budget(-70, [\"Gas & Fuel\"]))\n",
    "expenses_subcategory_bs_dict[name].add_budget(Budget(-100, [\"Service & Parts\"]))\n",
    "expenses_subcategory_bs_dict[name].add_budget(Budget(-300, [\"Vehicle Property Tax\"], amount_type='Yearly'))\n",
    "\n",
    "# Utilities / Monthly Software\n",
    "name = \"Utilities & Monthly Software\"\n",
    "expenses_subcategory_bs_dict[name] = Budgets(name=name)\n",
    "expenses_subcategory_bs_dict[name].add_budget(Budget(-115, [\"Electricity\"]))\n",
    "expenses_subcategory_bs_dict[name].add_budget(Budget(-56, [\"Internet\"]))\n",
    "expenses_subcategory_bs_dict[name].add_budget(Budget(-145, [\"Mobile Phone\"]))\n",
    "expenses_subcategory_bs_dict[name].add_budget(Budget(-55, [\"Trash/Water\"], name=\"Trash, Water\"))\n",
    "expenses_subcategory_bs_dict[name].add_budget(Budget(-25, [\"Natural Gas\"]))\n",
    "expenses_subcategory_bs_dict[name].add_budget(Budget(-35, [\"Software Services\"], name=\"Software Servcices\"))\n",
    "\n",
    "# Home\n",
    "name = \"Home\"\n",
    "expenses_subcategory_bs_dict[name] = Budgets(name=name)\n",
    "expenses_subcategory_bs_dict[name].add_budget(Budget(-250, [\"HOA Fees\"]))\n",
    "expenses_subcategory_bs_dict[name].add_budget(Budget(-120, [\"Home Services\", \"Home Insurance\"]))\n",
    "expenses_subcategory_bs_dict[name].add_budget(Budget(-1365, [\"Mortgage & Rent\"]))\n",
    "expenses_subcategory_bs_dict[name].add_budget(Budget(-150, [\"Furnishings\", \"Home Improvement\", \"Home Supplies\"], name=\"Home Impr_Furn_Supplies\"))\n",
    "\n",
    "# Personal Upkeep\n",
    "name = \"Personal Upkeep\"\n",
    "expenses_subcategory_bs_dict[name] = Budgets(name=name)\n",
    "expenses_subcategory_bs_dict[name].add_budget(Budget(-66, [\"Hair\"], name=\"Hair-Heather\"))\n",
    "expenses_subcategory_bs_dict[name].add_budget(Budget(-16, [\"Hair (Andrew)\"], name=\"Hair-Andrew\"))\n",
    "expenses_subcategory_bs_dict[name].add_budget(Budget(-25, [\"All Medical Expenses\"]))\n",
    "expenses_subcategory_bs_dict[name].add_budget(Budget(-725, [\"Groceries\"]))\n",
    "\n",
    "# Entertainment\n",
    "name = \"Entertainment\"\n",
    "expenses_subcategory_bs_dict[name] = Budgets(name=name)\n",
    "expenses_subcategory_bs_dict[name].add_budget(Budget(-75, [\"Amusement\", \"Movies & DVDs\"], name=\"Fun Activities\"))\n",
    "expenses_subcategory_bs_dict[name].add_budget(Budget(-175, [\"Restaurants\", \"Fast Food\"], name='Food Out'))\n",
    "expenses_subcategory_bs_dict[name].add_budget(Budget(-20, [\"Coffee Shops\"]))\n",
    "expenses_subcategory_bs_dict[name].add_budget(Budget(-50, [\"Food at Work\"]))\n",
    "expenses_subcategory_bs_dict[name].add_budget(Budget(-100, [\"Gift\"]))\n",
    "expenses_subcategory_bs_dict[name].add_budget(Budget(-225, [\"Sports\"]))\n",
    "\n",
    "# Purchases\n",
    "name = \"Purchases\"\n",
    "expenses_subcategory_bs_dict[name] = Budgets(name=name)\n",
    "expenses_subcategory_bs_dict[name].add_budget(Budget(-30, [\"Books\", \"Software\", \"Hobbies\"], name=\"Books, Games, Software\"))\n",
    "expenses_subcategory_bs_dict[name].add_budget(Budget(-150, [\"Clothing (Heather)\"], name=\"Clothing-Heather\"))\n",
    "expenses_subcategory_bs_dict[name].add_budget(Budget(-100, [\"Clothing (Andrew)\"], name=\"Clothing-Andrew\"))\n",
    "expenses_subcategory_bs_dict[name].add_budget(Budget(-150, [\"Electronics Hardware\"], name=\"Electronics, Computers, Tech\"))\n",
    "\n",
    "# Travel\n",
    "name = \"Travel\"\n",
    "expenses_subcategory_bs_dict[name] = Budgets(name=name)\n",
    "expenses_subcategory_bs_dict[name].add_budget(Budget(-800, [\"Beach 2017\", \"Europe Trip 2016\", \"Vancouver 2017\", \"Hawaii 2018\", \"Vacation\"], name=\"Vacations\"))\n",
    "expenses_subcategory_bs_dict[name].add_budget(Budget(-325, [\"Trips Home\"]))\n",
    "\n",
    "# Misc\n",
    "name = \"Misc\"\n",
    "expenses_subcategory_bs_dict[name] = Budgets(name=name)\n",
    "expenses_subcategory_bs_dict[name].add_budget(Budget(-15, [\"Tuition\"], name=\"Educational Expenses\"))\n",
    "expenses_subcategory_bs_dict[name].add_budget(Budget(-20, [\"Work Expenses\", \"Office Supplies\"], name=\"Work, Home Office\"))\n",
    "expenses_subcategory_bs_dict[name].add_budget(Budget(-20, [\"ATM Fee\", \"Bank Fee\", \"Fees & Charges\", \"Finance Charge\", \"Late Fee\"], name=\"Fees and Charges\"))\n",
    "expenses_subcategory_bs_dict[name].add_budget(Budget(-50, [\"Federal Tax\", \"Taxes\", \"State Tax\"], name=\"Taxes\"))\n",
    "expenses_subcategory_bs_dict[name].add_budget(Budget(-15, [\"Passport, License ..\"], name=\"Passport, License, etc\"))\n",
    "expenses_subcategory_bs_dict[name].add_budget(Budget(-15, [\"Cash & ATM\"], name=\"Unknown - Cash, etc\"))\n",
    "\n",
    "# Extra Savings\n",
    "name = \"Extra Savings\"\n",
    "expenses_subcategory_bs_dict[name] = Budgets(name=name)\n",
    "expenses_subcategory_bs_dict[name].add_budget(Budget(-917, [\"Investment Transfer\"], name=\"Roth IRA\"))\n",
    "\n",
    "expenses_subcategory_bs = Budgets(name=\"Subcategorized Expenses\")\n",
    "for name, bs in expenses_subcategory_bs_dict.items():\n",
    "    expenses_subcategory_bs.extend(bs)\n",
    "expenses_subcategory_bs.display()"
   ]
  },
  {
   "cell_type": "markdown",
   "metadata": {},
   "source": [
    "### Group by categories"
   ]
  },
  {
   "cell_type": "code",
   "execution_count": 9,
   "metadata": {
    "scrolled": false
   },
   "outputs": [
    {
     "name": "stdout",
     "output_type": "stream",
     "text": [
      "Categorized Expenses\n",
      "Car                            | $ -275.00\n",
      "Utilities & Monthly Software   | $ -431.00\n",
      "Home                           | $-1885.00\n",
      "Personal Upkeep                | $ -832.00\n",
      "Entertainment                  | $ -645.00\n",
      "Purchases                      | $ -430.00\n",
      "Travel                         | $-1125.00\n",
      "Misc                           | $ -135.00\n",
      "Extra Savings                  | $ -917.00\n",
      "------------------------------\n",
      "Total                          | $-6675.00\n"
     ]
    }
   ],
   "source": [
    "expenses_category_bs = Budgets(name=\"Categorized Expenses\")\n",
    "\n",
    "for name in expenses_subcategory_bs_dict:\n",
    "    expenses_category_bs.add_budgets(expenses_subcategory_bs_dict[name])\n",
    "expenses_category_bs.display(categories=False)"
   ]
  },
  {
   "cell_type": "markdown",
   "metadata": {},
   "source": [
    "### Group all expenses into one Budgets"
   ]
  },
  {
   "cell_type": "code",
   "execution_count": 10,
   "metadata": {},
   "outputs": [
    {
     "name": "stdout",
     "output_type": "stream",
     "text": [
      "Total Expenses\n",
      "Categorized Expenses           | $-6675.00\n",
      "------------------------------\n",
      "Total                          | $-6675.00\n"
     ]
    }
   ],
   "source": [
    "expenses_bs = Budgets(name=\"Total Expenses\")\n",
    "expenses_bs.add_budgets(expenses_category_bs)\n",
    "expenses_bs.display(categories=False)"
   ]
  },
  {
   "cell_type": "markdown",
   "metadata": {},
   "source": [
    "### Make a master budgets object"
   ]
  },
  {
   "cell_type": "code",
   "execution_count": 11,
   "metadata": {},
   "outputs": [
    {
     "name": "stdout",
     "output_type": "stream",
     "text": [
      "Total\n",
      "Total Income                   | $ 7900.00\n",
      "Total Expenses                 | $-6675.00\n",
      "------------------------------\n",
      "Total                          | $ 1225.00\n"
     ]
    }
   ],
   "source": [
    "total = Budgets(name=\"Total\")\n",
    "total.add_budgets(income_bs)\n",
    "total.add_budgets(expenses_bs)\n",
    "total.display(categories=False)"
   ]
  },
  {
   "cell_type": "markdown",
   "metadata": {
    "collapsed": true
   },
   "source": [
    "## Check for un-budgeted expenses"
   ]
  },
  {
   "cell_type": "code",
   "execution_count": 12,
   "metadata": {
    "scrolled": true
   },
   "outputs": [
    {
     "name": "stdout",
     "output_type": "stream",
     "text": [
      "Check Passed: All transactions are categorized\n"
     ]
    }
   ],
   "source": [
    "# Make exclusions for things that just happen or stuff I'm currently ignoring (income)\n",
    "exclude_bs = Budgets()\n",
    "exclude_bs.add_budget(Budget(0, ['Transfer', 'Credit Card Payment']))\n",
    "# bs_exclude.add_budget(Budget(0, ['Paycheck', 'Parents and Gifts', \"Interest Income\", \"Unknown Income\", \"Credit Card Rewards\"]))\n",
    "\n",
    "not_in_bs = expenses_bs.get_transactions_not_in_budgets(all_trxs)\n",
    "not_in_bs = income_bs.get_transactions_not_in_budgets(not_in_bs)\n",
    "not_in_bs = exclude_bs.get_transactions_not_in_budgets(not_in_bs)\n",
    "if len(not_in_bs) > 0:\n",
    "    print(\"WARNING: Found uncategorized transactions:\")\n",
    "    print(not_in_bs)\n",
    "else:\n",
    "    print(\"Check Passed: All transactions are categorized\")"
   ]
  },
  {
   "cell_type": "markdown",
   "metadata": {},
   "source": [
    "## Budget Summary"
   ]
  },
  {
   "cell_type": "code",
   "execution_count": 13,
   "metadata": {},
   "outputs": [
    {
     "name": "stdout",
     "output_type": "stream",
     "text": [
      "Subcategorized Income\n",
      "Paycheck                       | $ 7300.00\n",
      "Parents and Gifts              | $  500.00\n",
      "Other                          | $  100.00\n",
      "------------------------------\n",
      "Total                          | $ 7900.00\n",
      "\n",
      "Categorized Expenses\n",
      "Car                            | $ -275.00\n",
      "Utilities & Monthly Software   | $ -431.00\n",
      "Home                           | $-1885.00\n",
      "Personal Upkeep                | $ -832.00\n",
      "Entertainment                  | $ -645.00\n",
      "Purchases                      | $ -430.00\n",
      "Travel                         | $-1125.00\n",
      "Misc                           | $ -135.00\n",
      "Extra Savings                  | $ -917.00\n",
      "------------------------------\n",
      "Total                          | $-6675.00\n"
     ]
    }
   ],
   "source": [
    "income_subcategory_bs.display(categories=False)\n",
    "print()\n",
    "expenses_category_bs.display(categories=False)"
   ]
  },
  {
   "cell_type": "markdown",
   "metadata": {},
   "source": [
    "## Plotting"
   ]
  },
  {
   "cell_type": "markdown",
   "metadata": {},
   "source": [
    "### Totals"
   ]
  },
  {
   "cell_type": "code",
   "execution_count": 14,
   "metadata": {},
   "outputs": [],
   "source": [
    "saveloc = save_dir + 'total/'\n",
    "total.plot(all_trxs, moving_average=moving_average, saveloc=saveloc)\n",
    "total.heatmap_table(all_trxs, moving_average=moving_average, saveloc=saveloc + \"heatmap\")"
   ]
  },
  {
   "cell_type": "markdown",
   "metadata": {},
   "source": [
    "### Plot Income"
   ]
  },
  {
   "cell_type": "markdown",
   "metadata": {},
   "source": [
    "#### Subcategorized"
   ]
  },
  {
   "cell_type": "code",
   "execution_count": 15,
   "metadata": {},
   "outputs": [],
   "source": [
    "saveloc = save_dir + 'income_subcategories/'\n",
    "income_subcategory_bs.plot(all_trxs, moving_average=moving_average, saveloc=saveloc)\n",
    "income_subcategory_bs.heatmap_table(all_trxs, moving_average=moving_average, saveloc=saveloc + \"heatmap\")"
   ]
  },
  {
   "cell_type": "markdown",
   "metadata": {},
   "source": [
    "#### Categorized"
   ]
  },
  {
   "cell_type": "code",
   "execution_count": 16,
   "metadata": {},
   "outputs": [],
   "source": [
    "saveloc = save_dir + 'income_categories/'\n",
    "income_category_bs.plot(all_trxs, moving_average=moving_average, saveloc=saveloc)\n",
    "income_category_bs.heatmap_table(all_trxs, moving_average=moving_average, saveloc=saveloc + \"heatmap\")"
   ]
  },
  {
   "cell_type": "markdown",
   "metadata": {},
   "source": [
    "### Plot Expenses"
   ]
  },
  {
   "cell_type": "markdown",
   "metadata": {},
   "source": [
    "#### Subcategorized"
   ]
  },
  {
   "cell_type": "code",
   "execution_count": 17,
   "metadata": {},
   "outputs": [
    {
     "name": "stderr",
     "output_type": "stream",
     "text": [
      "C:\\Users\\scribs\\Anaconda3\\lib\\site-packages\\matplotlib\\pyplot.py:523: RuntimeWarning: More than 20 figures have been opened. Figures created through the pyplot interface (`matplotlib.pyplot.figure`) are retained until explicitly closed and may consume too much memory. (To control this warning, see the rcParam `figure.max_open_warning`).\n",
      "  max_open_warning, RuntimeWarning)\n"
     ]
    }
   ],
   "source": [
    "saveloc = save_dir + 'expenses_subcategories/'\n",
    "expenses_subcategory_bs.plot(all_trxs, moving_average=moving_average, saveloc=saveloc)\n",
    "expenses_subcategory_bs.heatmap_table(all_trxs, moving_average=moving_average, saveloc=saveloc + \"heatmap\")"
   ]
  },
  {
   "cell_type": "markdown",
   "metadata": {},
   "source": [
    "#### Categorized"
   ]
  },
  {
   "cell_type": "code",
   "execution_count": 18,
   "metadata": {},
   "outputs": [
    {
     "name": "stderr",
     "output_type": "stream",
     "text": [
      "C:\\Users\\scribs\\Anaconda3\\lib\\site-packages\\matplotlib\\pyplot.py:523: RuntimeWarning: More than 20 figures have been opened. Figures created through the pyplot interface (`matplotlib.pyplot.figure`) are retained until explicitly closed and may consume too much memory. (To control this warning, see the rcParam `figure.max_open_warning`).\n",
      "  max_open_warning, RuntimeWarning)\n"
     ]
    }
   ],
   "source": [
    "saveloc = save_dir + 'expenses_categories/'\n",
    "expenses_category_bs.plot(all_trxs, moving_average=moving_average, saveloc=saveloc)\n",
    "expenses_category_bs.heatmap_table(all_trxs, moving_average=moving_average, saveloc=saveloc + \"heatmap\")"
   ]
  },
  {
   "cell_type": "markdown",
   "metadata": {},
   "source": [
    "# Investments"
   ]
  },
  {
   "cell_type": "code",
   "execution_count": 19,
   "metadata": {
    "collapsed": true
   },
   "outputs": [],
   "source": [
    "csv_file = date + \"_Investments.csv\"\n",
    "investment_trxs = Transactions.Transactions.from_csv(csv_file)"
   ]
  },
  {
   "cell_type": "code",
   "execution_count": 26,
   "metadata": {},
   "outputs": [
    {
     "name": "stdout",
     "output_type": "stream",
     "text": [
      "Investments\n",
      "Capital Deposit                | $-4000.00 | ['Buy']\n",
      "Dividend Reinvestment          | $  -70.00 | ['Investments']\n",
      "Interest                       | $    0.00 | ['Interest Income']\n",
      "------------------------------\n",
      "Total                          | $-4070.00\n"
     ]
    }
   ],
   "source": [
    "investment_subcategory_bs_dict = OrderedDict()\n",
    "\n",
    "# Income\n",
    "name = \"Investments\"\n",
    "investments_bs = Budgets(name=name)\n",
    "investments_bs.add_budget(Budget(-4000, [\"Buy\"], name=\"Capital Deposit\"))\n",
    "investments_bs.add_budget(Budget(-70, [\"Investments\"], name=\"Dividend Reinvestment\"))\n",
    "investments_bs.add_budget(Budget(0, [\"Interest Income\"], name=\"Interest\"))\n",
    "investment_ignore = Budget(0, [\"Dividend & Cap Gains\", \"Sell\", \"Investment Transfer\", \"Vanguard Ignored\"], name=\"Investment Ignore\")\n",
    "\n",
    "investments_bs.display()\n"
   ]
  },
  {
   "cell_type": "code",
   "execution_count": 28,
   "metadata": {},
   "outputs": [
    {
     "name": "stdout",
     "output_type": "stream",
     "text": [
      "Check Passed: All transactions are categorized\n"
     ]
    }
   ],
   "source": [
    "not_in_bs = investments_bs.get_transactions_not_in_budgets(investment_trxs)\n",
    "not_in_bs = not_in_bs.slice_by_category(investment_ignore.categories, return_anti_match=True)\n",
    "\n",
    "if len(not_in_bs) > 0:\n",
    "    print(\"WARNING: Found uncategorized transactions:\")\n",
    "    print(not_in_bs)\n",
    "else:\n",
    "    print(\"Check Passed: All transactions are categorized\")"
   ]
  },
  {
   "cell_type": "markdown",
   "metadata": {},
   "source": [
    "### Plot Investments"
   ]
  },
  {
   "cell_type": "code",
   "execution_count": 29,
   "metadata": {},
   "outputs": [
    {
     "name": "stderr",
     "output_type": "stream",
     "text": [
      "C:\\Users\\scribs\\Anaconda3\\lib\\site-packages\\matplotlib\\pyplot.py:523: RuntimeWarning: More than 20 figures have been opened. Figures created through the pyplot interface (`matplotlib.pyplot.figure`) are retained until explicitly closed and may consume too much memory. (To control this warning, see the rcParam `figure.max_open_warning`).\n",
      "  max_open_warning, RuntimeWarning)\n"
     ]
    }
   ],
   "source": [
    "saveloc = save_dir + 'investments/'\n",
    "investments_bs.plot(investment_trxs, moving_average=moving_average, saveloc=saveloc)\n",
    "investments_bs.heatmap_table(investment_trxs, moving_average=moving_average, saveloc=saveloc + \"heatmap\")"
   ]
  }
 ],
 "metadata": {
  "kernelspec": {
   "display_name": "Python 3",
   "language": "python",
   "name": "python3"
  },
  "language_info": {
   "codemirror_mode": {
    "name": "ipython",
    "version": 3
   },
   "file_extension": ".py",
   "mimetype": "text/x-python",
   "name": "python",
   "nbconvert_exporter": "python",
   "pygments_lexer": "ipython3",
   "version": "3.6.3"
  }
 },
 "nbformat": 4,
 "nbformat_minor": 2
}
